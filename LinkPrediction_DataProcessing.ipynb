{
 "cells": [
  {
   "cell_type": "code",
   "execution_count": 1,
   "metadata": {},
   "outputs": [],
   "source": [
    "import numpy as np\n",
    "import pandas as pd\n",
    "import networkx as nx\n",
    "import matplotlib.pyplot as plt\n",
    "%matplotlib inline"
   ]
  },
  {
   "cell_type": "code",
   "execution_count": 2,
   "metadata": {},
   "outputs": [],
   "source": [
    "Target = pd.read_csv('musae_ENGB_target.csv')\n",
    "Edges = pd.read_csv('musae_ENGB_edges.csv')"
   ]
  },
  {
   "cell_type": "markdown",
   "metadata": {},
   "source": [
    "# create a network"
   ]
  },
  {
   "cell_type": "code",
   "execution_count": 3,
   "metadata": {},
   "outputs": [],
   "source": [
    "#create network from edges set\n",
    "edge = [list(i) for i in zip(Edges['from'], Edges['to'])]\n",
    "G = nx.Graph()\n",
    "G.add_edges_from(edge)"
   ]
  },
  {
   "cell_type": "code",
   "execution_count": 4,
   "metadata": {},
   "outputs": [],
   "source": [
    "#converting true to 1, false to 0\n",
    "Target[['mature','partner']] = (Target[['mature','partner']] == True).astype(int)\n",
    "#add attributes to nodes\n",
    "Target_dict = {}\n",
    "for idx, row in Target.iterrows():\n",
    "    Target_dict[row.new_id] = {'days': row.days, 'mature':row.mature, 'views':row.views, 'partner': row.partner}\n",
    "\n",
    "nx.set_node_attributes(G, Target_dict)"
   ]
  },
  {
   "cell_type": "code",
   "execution_count": 5,
   "metadata": {},
   "outputs": [],
   "source": [
    "from tqdm import tqdm"
   ]
  },
  {
   "cell_type": "code",
   "execution_count": 6,
   "metadata": {},
   "outputs": [],
   "source": [
    "#adjacency matrix\n",
    "adj_G = nx.to_numpy_matrix(G)"
   ]
  },
  {
   "cell_type": "code",
   "execution_count": 7,
   "metadata": {},
   "outputs": [
    {
     "name": "stderr",
     "output_type": "stream",
     "text": [
      "100%|██████████| 7126/7126 [15:48<00:00,  7.51it/s] \n"
     ]
    }
   ],
   "source": [
    "# get unconnected node-pairs\n",
    "all_unconnected_pairs = []\n",
    "\n",
    "# traverse adjacency matrix\n",
    "offset = 0\n",
    "for i in tqdm(range(adj_G.shape[0])):\n",
    "    for j in range(offset,adj_G.shape[1]):\n",
    "        if i != j:\n",
    "            if nx.shortest_path_length(G, source=i, target=j) <=2:\n",
    "                if adj_G[i,j] == 0:\n",
    "                    all_unconnected_pairs.append([Edges['from'][i], Edges['to'][j]])\n",
    "\n",
    "    offset = offset + 1"
   ]
  },
  {
   "cell_type": "code",
   "execution_count": 8,
   "metadata": {},
   "outputs": [
    {
     "name": "stdout",
     "output_type": "stream",
     "text": [
      "1612462\n"
     ]
    }
   ],
   "source": [
    "unconnected_from = [i[0] for i in all_unconnected_pairs]\n",
    "unconnected_to = [i[1] for i in all_unconnected_pairs]\n",
    "\n",
    "data = pd.DataFrame({'from':unconnected_from, \n",
    "                     'to':unconnected_to})\n",
    "\n",
    "# add target variable 'link'\n",
    "data['link'] = 0\n",
    "\n",
    "print(len(data))"
   ]
  },
  {
   "cell_type": "code",
   "execution_count": 9,
   "metadata": {},
   "outputs": [
    {
     "name": "stderr",
     "output_type": "stream",
     "text": [
      "100%|██████████| 35324/35324 [20:02<00:00, 29.38it/s]\n"
     ]
    }
   ],
   "source": [
    "#randomly drop some edges as positive samples\n",
    "initial_node_count = len(G.nodes)\n",
    "\n",
    "Edges_temp = Edges.copy()\n",
    "\n",
    "# empty list to store removable links\n",
    "omissible_links_index = []\n",
    "\n",
    "for i in tqdm(Edges.index.values):\n",
    "  \n",
    "  # remove a node pair and build a new graph\n",
    "    G_temp = nx.from_pandas_edgelist(Edges_temp.drop(index = i), \"from\", \"to\", create_using=nx.Graph())\n",
    "  \n",
    "  # check there is no spliting of graph and number of nodes is same\n",
    "    if (nx.number_connected_components(G_temp) == 1) and (len(G_temp.nodes) == initial_node_count):\n",
    "        omissible_links_index.append(i)\n",
    "        Edges_temp = Edges_temp.drop(index = i)"
   ]
  },
  {
   "cell_type": "code",
   "execution_count": 19,
   "metadata": {},
   "outputs": [],
   "source": [
    "# create dataframe of removable edges\n",
    "edge_df_ghost = Edges.loc[omissible_links_index]\n",
    "\n",
    "# add the target variable 'link'\n",
    "edge_df_ghost['link'] = 1\n",
    "\n",
    "\n",
    "data = data.append(edge_df_ghost[['from', 'to', 'link']], ignore_index=True)"
   ]
  },
  {
   "cell_type": "code",
   "execution_count": 20,
   "metadata": {},
   "outputs": [
    {
     "data": {
      "text/plain": [
       "0    1612462\n",
       "1      56398\n",
       "Name: link, dtype: int64"
      ]
     },
     "execution_count": 20,
     "metadata": {},
     "output_type": "execute_result"
    }
   ],
   "source": [
    "data[\"link\"].value_counts()"
   ]
  },
  {
   "cell_type": "code",
   "execution_count": 12,
   "metadata": {},
   "outputs": [],
   "source": [
    "# drop removable edges\n",
    "edge_df_partial = Edges.drop(index=edge_df_ghost.index.values)\n",
    "\n",
    "# build graph\n",
    "G_data = nx.from_pandas_edgelist(edge_df_partial, \"from\", \"to\", create_using=nx.Graph())"
   ]
  },
  {
   "cell_type": "code",
   "execution_count": 13,
   "metadata": {},
   "outputs": [
    {
     "name": "stderr",
     "output_type": "stream",
     "text": [
      "Computing transition probabilities: 100%|██████████| 7126/7126 [00:00<00:00, 10938.39it/s]\n",
      "Generating walks (CPU: 1): 100%|██████████| 50/50 [00:19<00:00,  2.59it/s]\n"
     ]
    }
   ],
   "source": [
    "from node2vec import Node2Vec\n",
    "# Generate walks\n",
    "node2vec = Node2Vec(G_data, dimensions = 50, walk_length=16, num_walks=50)\n",
    "\n",
    "# train node2vec model\n",
    "n2w_model = node2vec.fit(window=7, min_count=1)"
   ]
  },
  {
   "cell_type": "code",
   "execution_count": 32,
   "metadata": {},
   "outputs": [],
   "source": [
    "x = []\n",
    "for i,j in zip(data['from'], data['to']):\n",
    "    x.append(n2w_model.wv[i]+n2w_model.wv[j])"
   ]
  },
  {
   "cell_type": "code",
   "execution_count": 34,
   "metadata": {},
   "outputs": [],
   "source": [
    "x = pd.DataFrame(x)\n",
    "df = pd.concat([x,data], axis= 1)"
   ]
  },
  {
   "cell_type": "code",
   "execution_count": 36,
   "metadata": {},
   "outputs": [],
   "source": [
    "# Class count\n",
    "count_class_0, count_class_1 = df.link.value_counts()\n",
    "\n",
    "\n",
    "# Divide by class\n",
    "df_class0 = df[df['link'] == 0]\n",
    "df_class1 = df[df['link'] == 1]"
   ]
  },
  {
   "cell_type": "code",
   "execution_count": 37,
   "metadata": {},
   "outputs": [
    {
     "name": "stdout",
     "output_type": "stream",
     "text": [
      "Random under-sampling:\n",
      "0    56398\n",
      "1    56398\n",
      "Name: link, dtype: int64\n"
     ]
    },
    {
     "data": {
      "text/plain": [
       "<AxesSubplot:title={'center':'Count (link)'}>"
      ]
     },
     "execution_count": 37,
     "metadata": {},
     "output_type": "execute_result"
    },
    {
     "data": {
      "image/png": "[encoded data removed]",
      "text/plain": [
       "<Figure size 432x288 with 1 Axes>"
      ]
     },
     "metadata": {
      "needs_background": "light"
     },
     "output_type": "display_data"
    }
   ],
   "source": [
    "#Random under-sampling\n",
    "df_class0_resample = df_class0.sample(count_class_1)\n",
    "df_resample = pd.concat([df_class0_resample, df_class1], axis=0)\n",
    "\n",
    "print('Random under-sampling:')\n",
    "print(df_resample.link.value_counts())\n",
    "\n",
    "df_resample.link.value_counts().plot(kind='bar', title='Count (link)')"
   ]
  },
  {
   "cell_type": "code",
   "execution_count": 38,
   "metadata": {},
   "outputs": [],
   "source": [
    "df_resample.to_csv(\"df_resample.csv\")"
   ]
  },
  {
   "cell_type": "code",
   "execution_count": 39,
   "metadata": {},
   "outputs": [],
   "source": [
    "sim_df = df_resample[['from','to','link']]\n",
    "sim_df.to_csv(\"sim_df.csv\")"
   ]
  },
  {
   "cell_type": "code",
   "execution_count": 41,
   "metadata": {},
   "outputs": [],
   "source": [
    "df_resample = df_resample.drop(['from','to'],axis=1)"
   ]
  },
  {
   "cell_type": "code",
   "execution_count": 42,
   "metadata": {},
   "outputs": [],
   "source": [
    "from sklearn.model_selection import train_test_split\n",
    "xtrain, xtest, ytrain, ytest = train_test_split(df_resample.iloc[:,:-1], df_resample['link'], \n",
    "                                                test_size = 0.3)"
   ]
  },
  {
   "cell_type": "code",
   "execution_count": 33,
   "metadata": {},
   "outputs": [],
   "source": [
    "pd.DataFrame(xtrain).to_csv(\"xtrain.csv\", index = False)\n",
    "pd.DataFrame(xtest).to_csv(\"xtest.csv\", index = False)\n",
    "pd.DataFrame(ytrain).to_csv(\"ytrain.csv\", index = False)\n",
    "pd.DataFrame(ytest).to_csv(\"ytest.csv\", index = False)"
   ]
  }
 ],
 "metadata": {
  "kernelspec": {
   "display_name": "Python 3.9.7 ('base')",
   "language": "python",
   "name": "python3"
  },
  "language_info": {
   "codemirror_mode": {
    "name": "ipython",
    "version": 3
   },
   "file_extension": ".py",
   "mimetype": "text/x-python",
   "name": "python",
   "nbconvert_exporter": "python",
   "pygments_lexer": "ipython3",
   "version": "3.9.7"
  },
  "orig_nbformat": 4,
  "vscode": {
   "interpreter": {
    "hash": "b29dd24d784ce0ca7f47ee048973602679f5ba33646376a499cff7b6b14ea532"
   }
  }
 },
 "nbformat": 4,
 "nbformat_minor": 2
}
